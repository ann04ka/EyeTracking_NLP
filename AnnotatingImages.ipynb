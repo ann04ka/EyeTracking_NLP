{
  "cells": [
    {
      "cell_type": "markdown",
      "metadata": {
        "id": "view-in-github",
        "colab_type": "text"
      },
      "source": [
        "<a href=\"https://colab.research.google.com/github/ann04ka/EyeTracking_NLP/blob/main/AnnotatingImages.ipynb\" target=\"_parent\"><img src=\"https://colab.research.google.com/assets/colab-badge.svg\" alt=\"Open In Colab\"/></a>"
      ]
    },
    {
      "cell_type": "markdown",
      "id": "46a13a64-691e-46a5-9f4a-eb472af0b8dc",
      "metadata": {
        "id": "46a13a64-691e-46a5-9f4a-eb472af0b8dc"
      },
      "source": [
        "## Resized"
      ]
    },
    {
      "cell_type": "code",
      "execution_count": null,
      "id": "62c82f04-49bc-489b-9418-f8dd363151f6",
      "metadata": {
        "scrolled": true,
        "id": "62c82f04-49bc-489b-9418-f8dd363151f6"
      },
      "outputs": [],
      "source": [
        "import os\n",
        "import cv2\n",
        "\n",
        "def resize_and_save_images(source_dir, target_dir, resize_percentage=60):\n",
        "    if not os.path.exists(target_dir):\n",
        "        os.makedirs(target_dir)\n",
        "    for folder_name in os.listdir(source_dir):\n",
        "        folder_path = os.path.join(source_dir, folder_name)\n",
        "        if os.path.isdir(folder_path):\n",
        "            print(f\"Обработка папки: {folder_name}\")\n",
        "            for file_name in os.listdir(folder_path):\n",
        "                file_path = os.path.join(folder_path, file_name)\n",
        "                if file_name.lower().endswith(('.png', '.jpg', '.jpeg', '.bmp', '.gif')):\n",
        "                    try:\n",
        "\n",
        "                        img = cv2.imread(file_path)\n",
        "                        if img is None:\n",
        "                            print(f\"Не удалось прочитать файл {file_path}. Возможно, это не изображение.\")\n",
        "                            continue\n",
        "\n",
        "                        width = int(img.shape[1] * (resize_percentage / 100))\n",
        "                        height = int(img.shape[0] * (resize_percentage / 100))\n",
        "\n",
        "                        resized_img = cv2.resize(img, (width, height), interpolation=cv2.INTER_LANCZOS4)\n",
        "\n",
        "                        new_file_name = f\"{folder_name}_{file_name}\"\n",
        "                        output_path = os.path.join(target_dir, new_file_name)\n",
        "\n",
        "                        cv2.imwrite(output_path, resized_img)\n",
        "                        print(f\"Сохранено как: {output_path}\")\n",
        "                    except Exception as e:\n",
        "                        print(f\"Ошибка при обработке файла {file_path}: {e}\")\n",
        "\n",
        "source_directory = \"../data_anya/Les-2/\"\n",
        "target_directory = \"../data_anya/resized-2/\"\n",
        "\n",
        "resize_and_save_images(source_directory, target_directory)"
      ]
    },
    {
      "cell_type": "markdown",
      "id": "39a84eda-71cd-4a7f-8bbe-a966c41bfefb",
      "metadata": {
        "id": "39a84eda-71cd-4a7f-8bbe-a966c41bfefb"
      },
      "source": [
        "## Function for saving annotation"
      ]
    },
    {
      "cell_type": "code",
      "execution_count": null,
      "id": "d8ad27cd-d2aa-46a9-8b7a-b42389812155",
      "metadata": {
        "id": "d8ad27cd-d2aa-46a9-8b7a-b42389812155"
      },
      "outputs": [],
      "source": [
        "import os\n",
        "import json\n",
        "\n",
        "def add_annotation(image_path, caption, annotations_file):\n",
        "    \"\"\"\n",
        "    Добавляет аннотацию для изображения в JSON-файл.\n",
        "\n",
        "    :param image_path: Путь к изображению.\n",
        "    :param caption: Текстовое описание (аннотация) для изображения.\n",
        "    :param annotations_file: Путь к JSON-файлу с аннотациями.\n",
        "    \"\"\"\n",
        "    if os.path.exists(annotations_file):\n",
        "        with open(annotations_file, 'r', encoding='utf-8') as f:\n",
        "            annotations = json.load(f)\n",
        "    else:\n",
        "        annotations = []\n",
        "\n",
        "    annotations.append({\n",
        "        \"image_path\": image_path,\n",
        "        \"caption\": caption\n",
        "    })\n",
        "\n",
        "    with open(annotations_file, 'w', encoding='utf-8') as f:\n",
        "        json.dump(annotations, f, ensure_ascii=False, indent=4)\n",
        "\n",
        "    print(f\"Аннотация для изображения '{image_path}' успешно добавлена.\")"
      ]
    },
    {
      "cell_type": "markdown",
      "id": "ba057879-fddf-4f38-b378-ced4cc172fdc",
      "metadata": {
        "id": "ba057879-fddf-4f38-b378-ced4cc172fdc"
      },
      "source": [
        "## Function for annotating"
      ]
    },
    {
      "cell_type": "code",
      "execution_count": null,
      "id": "3aa8a7b2-8777-49b2-998f-279f00f11ed7",
      "metadata": {
        "id": "3aa8a7b2-8777-49b2-998f-279f00f11ed7"
      },
      "outputs": [],
      "source": [
        "import requests\n",
        "import json\n",
        "import base64\n",
        "from pathlib import Path\n",
        "\n",
        "\n",
        "def annotating(image_path):\n",
        "    def get_flower_image(image_path):\n",
        "        with open(image_path, \"rb\") as image_file:\n",
        "            encoded_string = base64.b64encode(image_file.read()).decode('utf-8')\n",
        "            return f\"data:image/jpeg;base64,{encoded_string}\"\n",
        "\n",
        "    base64_image = get_flower_image(image_path)\n",
        "    url = \"https://openrouter.ai/api/v1/chat/\"\n",
        "\n",
        "    # Headers для запроса\n",
        "    headers={\n",
        "        \"Authorization\": \"\",\n",
        "        \"Content-Type\": \"\",\n",
        "        \"HTTP-Referer\": \"\",\n",
        "        \"X-Title\": \"\",\n",
        "      }\n",
        "\n",
        "    # Тело запроса\n",
        "    payload = {\n",
        "        \"model\": \"google/gemini-2.0-flash-001\",\n",
        "        \"messages\": [\n",
        "        {\n",
        "            \"role\": \"system\",\n",
        "            \"content\": \"You are an image recognition AI that provides detailed descriptions of images on russian .\"\n",
        "        },\n",
        "        {\n",
        "            \"role\": \"user\",\n",
        "            \"content\": [\n",
        "              {\n",
        "                \"type\": \"text\",\n",
        "                \"text\": '''Опиши траекторию перемещения взгляда по следующему шаблону:\n",
        "\n",
        "                            1. **Текст вопроса:**\n",
        "                            - Текст вопроса со слайда\n",
        "\n",
        "                            2. **Начало движения:**\n",
        "                            - Где начинается движение взгляда? Например: «Взгляд начинает движение с первого слова вопроса: \"Текст вопроса\".»\n",
        "\n",
        "                            3. **Изменение диаметра зрачка:**\n",
        "                            - На каких словах или фрагментах текста наблюдалось сужение зрачка (синий круг)?\n",
        "                            - На каких словах или фрагментах текста наблюдалось расширение зрачка (красный круг)?\n",
        "                            - На каких словах или фрагментах текста диаметр зрачка оставался средним (зеленый круг)?\n",
        "\n",
        "                            4. **Движение взгляда:**\n",
        "                            - Опиши последовательность движения взгляда по тексту. Например: «Взгляд движется от начала вопроса вправо по строке, затем переходит ко второй строке.»\n",
        "                            - Укажи реверсивные саккады (красные стрелки), если они есть.\n",
        "                            - Укажи прямые саккады (синие стрелки), если они есть.\n",
        "                            - Укажи переключение между ответами (зеленые стрелки), если оно наблюдалось.\n",
        "\n",
        "                            5. **Выбор ответа:**\n",
        "                            - Какой ответ выбрал человек? Например: «Человек выбрал ответ \"Да\" после длительной фиксации на этом варианте.»\n",
        "\n",
        "                            **Важное правило:**\n",
        "                            - Запрещено начинать описание фразами типа: «Конечно, вот описание», «Давайте проанализируем траекторию», «Начнем с того, что» или любыми другими вводными фразами. Описание должно быть кратким и начинаться непосредственно с фактической информации.\n",
        "                            - Очень важно правильно распознать какой ответ выбрал человек\n",
        "                            - Используются только эти вопросы:\n",
        "                            ['В настоящее время я проживаю на территории Российской Федерации?', 'Я в состоянии спокойно читать текст с экрана монитора компьютера вслух?', 'Я боюсь, что будет задан вопрос, на который не смогу ответить правдиво?',\n",
        " 'Я всегда в жизни настойчиво добиваюсь поставленной перед собой цели?', 'Я какой-либо материальный ущерб компании за время работы наносил?', 'Когда я сильно нервничаю, у меня усиливается частота сердцебиения?',\n",
        " 'За последний год работы в компании, я получал незаконный доход?', 'В принципе, я способен на серьезный обман, если мне это будет выгодно?', 'Работая в компании за последний год, я трудовую дисциплину нарушал?',\n",
        " 'Когда я обманываю, испытываю ли я неловкость и беспокойство?', 'За последние двенадцать месяцев я употреблял какие либо наркотики?', 'Меня беспокоят возможные серьезные неудачи в моей жизни и на работе?',\n",
        " 'Я от руководства скрывал существенную информацию о работе?', 'У меня в жизни были неприятные ситуации, о которых не хочется вспоминать?', 'Мне достоверно известно о фактах какого- либо хищения в компании?',\n",
        " 'Я солгал на какой-либо из вопросов теста?']\n",
        "\n",
        "                            **Легенда:**\n",
        "                            - Синий круг: Суженный зрачок. Обозначает, что во время фиксации зрачок сужался.\n",
        "                            - Зеленый круг: Средний зрачок. Обозначает, что диаметр зрачка не изменялся во время фиксации.\n",
        "                            - Красный круг: Расширенный зрачок. Обозначает, что зрачок расширялся во время фиксации.\n",
        "                            - Красная стрелка: Реверсивная саккада. Обозначает движение взгляда, которое возвращается к предыдущей точке фиксации.\n",
        "                            - Синяя стрелка: Прямая саккада. Обозначает прямое движение взгляда от одной точки фиксации к другой.\n",
        "                            - Зеленая стрелка: Переключение между ответами. Обозначает переключение взгляда между различными вариантами ответов.\n",
        "                            - Маленький круг: Короткая фиксация. Обозначает короткую по продолжительности фиксацию взгляда.\n",
        "                            - Большой круг: Длительная фиксация. Обозначает длительную по продолжительности фиксацию взгляда.\n",
        "                            - Выбор ответа осуществляется длительной фиксацией.'''\n",
        "                },\n",
        "                {\n",
        "                        \"type\": \"image_url\",\n",
        "                        \"image_url\": {\n",
        "                            \"url\": base64_image  # Используем Base64-кодированное изображение\n",
        "                        }\n",
        "                    }\n",
        "                ]\n",
        "            }\n",
        "        ]\n",
        "    }\n",
        "\n",
        "    response = requests.post(url, headers=headers, data=json.dumps(payload))\n",
        "\n",
        "    if response.status_code == 200:\n",
        "        data = response.json()\n",
        "\n",
        "        if \"choices\" in data and len(data[\"choices\"]) > 0:\n",
        "            assistant_message = data[\"choices\"][0][\"message\"][\"content\"]\n",
        "            return(assistant_message)\n",
        "        else:\n",
        "            print(f\"Для {image_path} Не удалось найти описание в ответе.\")\n",
        "    else:\n",
        "        print(f\"Для {image_path} Ошибка: {response.status_code}\")\n",
        "        print(response.text)"
      ]
    },
    {
      "cell_type": "code",
      "execution_count": null,
      "id": "4279dbe0-24b3-4cce-a9b2-10c1a07ff2c6",
      "metadata": {
        "id": "4279dbe0-24b3-4cce-a9b2-10c1a07ff2c6"
      },
      "outputs": [],
      "source": [
        "                \"text\": \"Опиши траекторию перемещения взгляда по следующему шаблону:/n 1. **Начало движения:** /n   - Где начинается движение взгляда? Например: «Взгляд начинает движение с первого слова вопроса: \"Текст вопроса\".»/n 2. **Изменение диаметра зрачка:**/n  - На каких словах или фрагментах текста наблюдалось сужение зрачка (синий круг)?/n  - На каких словах или фрагментах текста наблюдалось расширение зрачка (красный круг)?/n   - На каких словах или фрагментах текста диаметр зрачка оставался средним (зеленый круг)? /n 3. **Движение взгляда:**/n  - Опиши последовательность движения взгляда по тексту. Например: «Взгляд движется от начала вопроса вправо по строке, затем переходит ко второй строке.»/n  - Укажи реверсивные саккады (красные стрелки), если они есть./n - Укажи прямые саккады (синие стрелки), если они есть./n  - Укажи переключение между ответами (зеленые стрелки), если оно наблюдалось./n 4. **Выбор ответа:**/n  - Какой ответ выбрал человек? Например: «Человек выбрал ответ \"Да\" после длительной фиксации на этом варианте.»/n 5. **Дополнительные наблюдения:** /n - Есть ли другие важные детали, такие как короткие фиксации (маленькие круги) или длительные фиксации (большие круги)? Например: «На слове \"ключевое слово\" наблюдалась длительная фиксация.»/n **Легенда:**/n- Синий круг: Суженный зрачок. Обозначает, что во время фиксации зрачок сужался./n- Зеленый круг: Средний зрачок. Обозначает, что диаметр зрачка не изменялся во время фиксации./n- Красный круг: Расширенный зрачок. Обозначает, что зрачок расширялся во время фиксации./n- Красная стрелка: Реверсивная саккада. Обозначает движение взгляда, которое возвращается к предыдущей точке фиксации./n - Синяя стрелка: Прямая саккада. Обозначает прямое движение взгляда от одной точки фиксации к другой./n- Зеленая стрелка: Переключение между ответами. Обозначает переключение взгляда между различными вариантами ответов./n - Маленький круг: Короткая фиксация. Обозначает короткую по продолжительности фиксацию взгляда./n - Большой круг: Длительная фиксация. Обозначает длительную по продолжительности фиксацию взгляда./n- Выбор ответа осуществляется длительной фиксацией.\"\n"
      ]
    },
    {
      "cell_type": "markdown",
      "id": "746010ec-5ac7-49ee-8d8b-611595a6a383",
      "metadata": {
        "id": "746010ec-5ac7-49ee-8d8b-611595a6a383"
      },
      "source": [
        "## Test annotating"
      ]
    },
    {
      "cell_type": "code",
      "execution_count": null,
      "id": "9a4cf8f4-48d6-43a3-a962-0c331199fa2c",
      "metadata": {
        "id": "9a4cf8f4-48d6-43a3-a962-0c331199fa2c"
      },
      "outputs": [],
      "source": [
        "annotating(\"\")"
      ]
    },
    {
      "cell_type": "markdown",
      "id": "7e45ccbb-17df-47ab-9870-373856aec951",
      "metadata": {
        "id": "7e45ccbb-17df-47ab-9870-373856aec951"
      },
      "source": [
        "## Annotating all scanpaths for dataset"
      ]
    },
    {
      "cell_type": "code",
      "execution_count": null,
      "id": "10e8ea56-e65c-4242-842e-fecdd0a25bc5",
      "metadata": {
        "scrolled": true,
        "id": "10e8ea56-e65c-4242-842e-fecdd0a25bc5"
      },
      "outputs": [],
      "source": [
        "image_directory = \"\"\n",
        "output_annotations_file = \"\"\n",
        "\n",
        "for file_name in os.listdir(image_directory):\n",
        "    file_path = os.path.join(image_directory, file_name)\n",
        "\n",
        "    if file_name.lower().endswith(('.png', '.jpg', '.jpeg', '.bmp', '.gif')):\n",
        "        print(f\"Обработка изображения: {file_name}\")\n",
        "\n",
        "        caption = annotating(file_path)\n",
        "\n",
        "        if not caption:\n",
        "            print(\"Пропущено (пустое описание).\")\n",
        "            continue\n",
        "\n",
        "        add_annotation(file_path, caption, output_annotations_file)"
      ]
    },
    {
      "cell_type": "code",
      "execution_count": null,
      "id": "66f197be-e9f9-42bf-a303-029599bec834",
      "metadata": {
        "id": "66f197be-e9f9-42bf-a303-029599bec834"
      },
      "outputs": [],
      "source": []
    },
    {
      "cell_type": "code",
      "execution_count": null,
      "id": "b65a6d13-a1e5-4cda-a223-bf2c5929cc14",
      "metadata": {
        "id": "b65a6d13-a1e5-4cda-a223-bf2c5929cc14"
      },
      "outputs": [],
      "source": []
    },
    {
      "cell_type": "markdown",
      "id": "4d254ede-a2c2-4f6d-b91e-3fa9b6a52938",
      "metadata": {
        "id": "4d254ede-a2c2-4f6d-b91e-3fa9b6a52938"
      },
      "source": [
        "## Проверка"
      ]
    },
    {
      "cell_type": "code",
      "execution_count": null,
      "id": "4941a7e2-eb36-4428-b50c-bde3434c4c6d",
      "metadata": {
        "id": "4941a7e2-eb36-4428-b50c-bde3434c4c6d"
      },
      "outputs": [],
      "source": [
        "import os\n",
        "import json\n",
        "import shutil\n",
        "from IPython.display import display\n",
        "import ipywidgets as widgets\n",
        "\n",
        "annotations_file = ''\n",
        "base_image_folder = ''\n",
        "new_annotations_file = ''\n",
        "new_image_folder = ''\n",
        "\n",
        "os.makedirs(new_image_folder, exist_ok=True)\n",
        "\n",
        "with open(annotations_file, 'r') as f:\n",
        "    annotations = json.load(f)\n",
        "\n",
        "if not os.path.exists(new_annotations_file):\n",
        "    with open(new_annotations_file, 'w') as f:\n",
        "        json.dump([], f)\n",
        "\n",
        "def get_image_and_caption(index):\n",
        "    if not (0 <= index < len(annotations)):\n",
        "        return None, \"Индекс вне диапазона\"\n",
        "\n",
        "    annotation = annotations[index]\n",
        "    image_path = os.path.join(os.getcwd(), base_image_folder, os.path.basename(annotation[\"image_path\"]))\n",
        "    caption = annotation[\"image_path\"]+ '\\n' + annotation[\"caption\"]\n",
        "    return image_path, caption\n",
        "\n",
        "current_index = 0\n",
        "\n",
        "def update_content():\n",
        "    global current_index\n",
        "    if not annotations:\n",
        "        image_widget.value = \"\"\n",
        "        caption_widget.value = \"Нет доступных изображений.\"\n",
        "        return\n",
        "\n",
        "    image_path, caption = get_image_and_caption(current_index)\n",
        "\n",
        "    if image_path is None:\n",
        "        image_widget.value = \"\"\n",
        "        caption_widget.value = caption\n",
        "        return\n",
        "\n",
        "    with open(image_path, \"rb\") as file:\n",
        "        image_widget.value = file.read()\n",
        "    image_widget.width = 600\n",
        "    image_widget.height = 600\n",
        "    caption_widget.value = caption\n",
        "\n",
        "    prev_button.disabled = (current_index == 0)\n",
        "    next_button.disabled = (current_index == len(annotations) - 1)\n",
        "\n",
        "def on_next_button_clicked(b):\n",
        "    global current_index\n",
        "    if current_index < len(annotations) - 1:\n",
        "        current_index += 1\n",
        "    update_content()\n",
        "\n",
        "def on_prev_button_clicked(b):\n",
        "    global current_index\n",
        "    if current_index > 0:\n",
        "        current_index -= 1\n",
        "    update_content()\n",
        "\n",
        "def on_checkbox_clicked(change):\n",
        "    if change['new']:\n",
        "        save_current_item()\n",
        "\n",
        "def save_current_item():\n",
        "    global current_index\n",
        "    image_path, caption = get_image_and_caption(current_index)\n",
        "\n",
        "    if image_path is None:\n",
        "        print(\"Ошибка: Изображение не найдено.\")\n",
        "        return\n",
        "\n",
        "    new_annotation = {\n",
        "        \"image_path\": os.path.join(new_image_folder, os.path.basename(image_path)),\n",
        "        \"caption\": caption\n",
        "    }\n",
        "\n",
        "    with open(new_annotations_file, 'r') as f:\n",
        "        new_annotations = json.load(f)\n",
        "\n",
        "    new_annotations.append(new_annotation)\n",
        "\n",
        "    with open(new_annotations_file, 'w') as f:\n",
        "        json.dump(new_annotations, f, indent=4)\n",
        "\n",
        "    new_image_path = os.path.join(new_image_folder, os.path.basename(image_path))\n",
        "    shutil.copy(image_path, new_image_path)\n",
        "\n",
        "    print(f\"Элемент {current_index} сохранен.\")\n",
        "\n",
        "image_widget = widgets.Image(format='png')\n",
        "caption_widget = widgets.HTML()\n",
        "checkbox = widgets.ToggleButton(description=\"Сохранить\", button_style='success')\n",
        "\n",
        "checkbox.observe(on_checkbox_clicked, names='value')\n",
        "\n",
        "# Создание кнопок\n",
        "prev_button = widgets.Button(description=\"Назад\", disabled=True, button_style='info')\n",
        "next_button = widgets.Button(description=\"Вперед\", button_style='success')\n",
        "\n",
        "# Назначение обработчиков событий для кнопок\n",
        "prev_button.on_click(on_prev_button_clicked)\n",
        "next_button.on_click(on_next_button_clicked)\n",
        "\n",
        "# Размещение элементов в виджетах\n",
        "content_box = widgets.VBox([image_widget, caption_widget])  # Изображение и текст\n",
        "button_box = widgets.HBox([prev_button, next_button, checkbox])  # Кнопки и чекбокс\n",
        "main_box = widgets.VBox([content_box, button_box])  # Основной контейнер"
      ]
    },
    {
      "cell_type": "code",
      "execution_count": null,
      "id": "895185f0-f0ce-482c-9db5-60415796016d",
      "metadata": {
        "id": "895185f0-f0ce-482c-9db5-60415796016d"
      },
      "outputs": [],
      "source": [
        "display(main_box)\n",
        "\n",
        "update_content()"
      ]
    },
    {
      "cell_type": "code",
      "execution_count": null,
      "id": "c0a04ae8-522d-4b1c-8cbb-dde608245873",
      "metadata": {
        "id": "c0a04ae8-522d-4b1c-8cbb-dde608245873"
      },
      "outputs": [],
      "source": [
        "current_index"
      ]
    },
    {
      "cell_type": "code",
      "execution_count": null,
      "id": "199f6265-aa09-4201-8e07-570598ba3047",
      "metadata": {
        "id": "199f6265-aa09-4201-8e07-570598ba3047"
      },
      "outputs": [],
      "source": []
    },
    {
      "cell_type": "code",
      "execution_count": null,
      "id": "fe41bb87-59f2-4a14-a057-1d5c65493d5a",
      "metadata": {
        "id": "fe41bb87-59f2-4a14-a057-1d5c65493d5a"
      },
      "outputs": [],
      "source": []
    },
    {
      "cell_type": "markdown",
      "id": "a1049dbe-0485-4a52-83f9-93f2c6499ce6",
      "metadata": {
        "id": "a1049dbe-0485-4a52-83f9-93f2c6499ce6"
      },
      "source": [
        " ## Zip DS and anzip"
      ]
    },
    {
      "cell_type": "code",
      "execution_count": null,
      "id": "ceabe271-0cd6-4146-bd15-1bbe7d467b84",
      "metadata": {
        "id": "ceabe271-0cd6-4146-bd15-1bbe7d467b84"
      },
      "outputs": [],
      "source": [
        "import os\n",
        "import shutil\n",
        "\n",
        "def archive_directory(image_directory, annotations_file, output_archive):\n",
        "    \"\"\"\n",
        "    Архивирует директорию с изображениями и файл аннотаций в один ZIP-архив.\n",
        "\n",
        "    :param image_directory: Путь к директории с изображениями.\n",
        "    :param annotations_file: Путь к JSON-файлу с аннотациями.\n",
        "    :param output_archive: Путь к выходному ZIP-архиву.\n",
        "    \"\"\"\n",
        "    if not os.path.exists(image_directory):\n",
        "        raise FileNotFoundError(f\"Директория с изображениями не найдена: {image_directory}\")\n",
        "\n",
        "    if not os.path.exists(annotations_file):\n",
        "        raise FileNotFoundError(f\"Файл аннотаций не найден: {annotations_file}\")\n",
        "\n",
        "    try:\n",
        "        temp_dir = \"temp_archive\"\n",
        "        os.makedirs(temp_dir, exist_ok=True)\n",
        "\n",
        "        shutil.copytree(image_directory, os.path.join(temp_dir, \"resized\"))\n",
        "\n",
        "        shutil.copy(annotations_file, os.path.join(temp_dir, \"annotations.json\"))\n",
        "\n",
        "        shutil.make_archive(output_archive.replace('.zip', ''), 'zip', temp_dir)\n",
        "\n",
        "        print(f\"Архив успешно создан: {output_archive}\")\n",
        "\n",
        "    except Exception as e:\n",
        "        print(f\"Ошибка при создании архива: {e}\")\n",
        "    finally:\n",
        "        shutil.rmtree(temp_dir, ignore_errors=True)\n",
        "\n",
        "\n",
        "def extract_archive(input_archive, output_directory):\n",
        "    \"\"\"\n",
        "    Разархивирует ZIP-архив в указанную директорию.\n",
        "\n",
        "    :param input_archive: Путь к ZIP-архиву.\n",
        "    :param output_directory: Путь к директории для разархивации.\n",
        "    \"\"\"\n",
        "    if not os.path.exists(input_archive):\n",
        "        raise FileNotFoundError(f\"Архив не найден: {input_archive}\")\n",
        "\n",
        "    try:\n",
        "        shutil.unpack_archive(input_archive, output_directory)\n",
        "\n",
        "        print(f\"Архив успешно разархивирован в: {output_directory}\")\n",
        "    except Exception as e:\n",
        "        print(f\"Ошибка при разархивации: {e}\")\n",
        "\n",
        "\n",
        "\n",
        "image_directory = \"\"  # Путь к директории с изображениями\n",
        "annotations_file = \"\"  # Путь к JSON-файлу с аннотациями\n",
        "output_archive = \"\"  # Путь к выходному архиву\n",
        "# output_archive = \"\"  # Путь к выходному архиву\n",
        "extraction_directory = \"\"  # Путь для разархивации\n",
        "\n",
        "# Архивация\n",
        "archive_directory(image_directory, annotations_file, output_archive)\n",
        "\n",
        "# Разархивация\n",
        "# extract_archive(output_archive, extraction_directory)"
      ]
    },
    {
      "cell_type": "code",
      "execution_count": null,
      "id": "09ed8190-ac36-4d98-961c-50594fb299fa",
      "metadata": {
        "id": "09ed8190-ac36-4d98-961c-50594fb299fa"
      },
      "outputs": [],
      "source": [
        "import json\n",
        "import os\n",
        "\n",
        "with open('', 'r') as file:\n",
        "    data = json.load(file)\n",
        "\n",
        "image_paths = [\n",
        "    os.path.join(\"\", os.path.basename(item['image_path']))\n",
        "    for item in data\n",
        "]\n",
        "\n",
        "print(len(image_paths))"
      ]
    },
    {
      "cell_type": "code",
      "execution_count": null,
      "id": "c9527424-377b-4dc6-ab1f-60d4b7aa5311",
      "metadata": {
        "collapsed": true,
        "jupyter": {
          "outputs_hidden": true
        },
        "id": "c9527424-377b-4dc6-ab1f-60d4b7aa5311"
      },
      "outputs": [],
      "source": [
        "import json\n",
        "import os\n",
        "\n",
        "\n",
        "with open('', 'r') as file:\n",
        "    annotations_data = json.load(file)\n",
        "\n",
        "annotations_dict = {\n",
        "    item['image_path']: item['caption']\n",
        "    for item in annotations_data\n",
        "}\n",
        "\n",
        "result_data = []\n",
        "for image_path in image_paths:  # image_paths - это список путей, полученный ранее\n",
        "    # original_image_path = os.path.join(\"../data_anya/new/\", os.path.basename(image_path))\n",
        "    if image_path in annotations_dict:\n",
        "        # print(original_image_path)\n",
        "        result_data.append({\n",
        "            \"image_path\": image_path,\n",
        "            \"caption\": annotations_dict[image_path]\n",
        "        })\n",
        "\n",
        "with open('output_annotations.json', 'w') as output_file:\n",
        "    json.dump(result_data, output_file, indent=4)\n",
        "\n",
        "print(\"Новый файл JSON успешно создан!\")"
      ]
    },
    {
      "cell_type": "code",
      "execution_count": null,
      "id": "82670bfe-44a3-4918-9e3c-e440a4bb3936",
      "metadata": {
        "id": "82670bfe-44a3-4918-9e3c-e440a4bb3936"
      },
      "outputs": [],
      "source": []
    }
  ],
  "metadata": {
    "kernelspec": {
      "display_name": "Python 3 (ipykernel)",
      "language": "python",
      "name": "python3"
    },
    "language_info": {
      "codemirror_mode": {
        "name": "ipython",
        "version": 3
      },
      "file_extension": ".py",
      "mimetype": "text/x-python",
      "name": "python",
      "nbconvert_exporter": "python",
      "pygments_lexer": "ipython3",
      "version": "3.11.5"
    },
    "colab": {
      "provenance": [],
      "include_colab_link": true
    }
  },
  "nbformat": 4,
  "nbformat_minor": 5
}